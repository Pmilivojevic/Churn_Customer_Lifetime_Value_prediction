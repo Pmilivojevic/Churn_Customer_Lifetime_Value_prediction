{
 "cells": [
  {
   "cell_type": "code",
   "execution_count": 2,
   "metadata": {},
   "outputs": [
    {
     "data": {
      "text/plain": [
       "'/mnt/cb03386d-9344-47b1-82f9-868fbb64b4ae/python_projects/Churn_Customer_Lifetime_Value_prediction/research'"
      ]
     },
     "execution_count": 2,
     "metadata": {},
     "output_type": "execute_result"
    }
   ],
   "source": [
    "import os\n",
    "%pwd"
   ]
  },
  {
   "cell_type": "code",
   "execution_count": 3,
   "metadata": {},
   "outputs": [
    {
     "data": {
      "text/plain": [
       "'/mnt/cb03386d-9344-47b1-82f9-868fbb64b4ae/python_projects/Churn_Customer_Lifetime_Value_prediction'"
      ]
     },
     "execution_count": 3,
     "metadata": {},
     "output_type": "execute_result"
    }
   ],
   "source": [
    "os.chdir(\"../\")\n",
    "%pwd"
   ]
  },
  {
   "cell_type": "code",
   "execution_count": null,
   "metadata": {},
   "outputs": [],
   "source": [
    "import urllib.request as request\n",
    "\n",
    "filename, headers = request.urlretrieve(\n",
    "    url=\"https://docs.google.com/spreadsheets/d/1taus8Wx2s9xcavripC_TMuDNF2vVSVZ_/edit?usp=sharing&ouid=113748405694445668234&rtpof=true&sd=true\",\n",
    "    filename=\"sample_data__technical_assessment.xlsx\"\n",
    ")"
   ]
  },
  {
   "cell_type": "code",
   "execution_count": 8,
   "metadata": {},
   "outputs": [],
   "source": [
    "import pandas as pd\n",
    "\n",
    "df = pd.read_excel(\n",
    "    'artifacts/data_ingestion/sample_data__technical_assessment.xlsx',\n",
    ")"
   ]
  },
  {
   "cell_type": "code",
   "execution_count": 20,
   "metadata": {},
   "outputs": [
    {
     "data": {
      "text/html": [
       "<div>\n",
       "<style scoped>\n",
       "    .dataframe tbody tr th:only-of-type {\n",
       "        vertical-align: middle;\n",
       "    }\n",
       "\n",
       "    .dataframe tbody tr th {\n",
       "        vertical-align: top;\n",
       "    }\n",
       "\n",
       "    .dataframe thead th {\n",
       "        text-align: right;\n",
       "    }\n",
       "</style>\n",
       "<table border=\"1\" class=\"dataframe\">\n",
       "  <thead>\n",
       "    <tr style=\"text-align: right;\">\n",
       "      <th></th>\n",
       "      <th>activity_month</th>\n",
       "      <th>account_id</th>\n",
       "      <th>brand_id</th>\n",
       "      <th>reg_date</th>\n",
       "      <th>ftd_date</th>\n",
       "      <th>qp_date</th>\n",
       "      <th>ben_login_id</th>\n",
       "      <th>tracker_id</th>\n",
       "      <th>player_reg_product</th>\n",
       "      <th>total_deposit</th>\n",
       "      <th>total_handle</th>\n",
       "      <th>total_ngr</th>\n",
       "    </tr>\n",
       "  </thead>\n",
       "  <tbody>\n",
       "    <tr>\n",
       "      <th>0</th>\n",
       "      <td>2023-11-01</td>\n",
       "      <td>185196607</td>\n",
       "      <td>PA</td>\n",
       "      <td>2023-11-21</td>\n",
       "      <td>2023-11-21</td>\n",
       "      <td>NaT</td>\n",
       "      <td>BCUSA22L</td>\n",
       "      <td>7102592</td>\n",
       "      <td>BETTING</td>\n",
       "      <td>10.0</td>\n",
       "      <td>210.0</td>\n",
       "      <td>13.18</td>\n",
       "    </tr>\n",
       "    <tr>\n",
       "      <th>1</th>\n",
       "      <td>2023-11-01</td>\n",
       "      <td>154497623</td>\n",
       "      <td>AZ</td>\n",
       "      <td>2022-10-28</td>\n",
       "      <td>2022-10-28</td>\n",
       "      <td>2022-10-28</td>\n",
       "      <td>actionnetwork</td>\n",
       "      <td>7039239</td>\n",
       "      <td>BETTING</td>\n",
       "      <td>0.0</td>\n",
       "      <td>5.0</td>\n",
       "      <td>4.00</td>\n",
       "    </tr>\n",
       "    <tr>\n",
       "      <th>2</th>\n",
       "      <td>2023-11-01</td>\n",
       "      <td>153249011</td>\n",
       "      <td>MI</td>\n",
       "      <td>2022-08-18</td>\n",
       "      <td>2023-12-21</td>\n",
       "      <td>NaT</td>\n",
       "      <td>starsportsmx</td>\n",
       "      <td>7049874</td>\n",
       "      <td>CASINO</td>\n",
       "      <td>0.0</td>\n",
       "      <td>0.0</td>\n",
       "      <td>0.00</td>\n",
       "    </tr>\n",
       "    <tr>\n",
       "      <th>3</th>\n",
       "      <td>2023-11-01</td>\n",
       "      <td>184718245</td>\n",
       "      <td>OH</td>\n",
       "      <td>2023-11-13</td>\n",
       "      <td>2023-11-13</td>\n",
       "      <td>2023-11-13</td>\n",
       "      <td>actionnetwork</td>\n",
       "      <td>7106987</td>\n",
       "      <td>BETTING</td>\n",
       "      <td>10.0</td>\n",
       "      <td>210.0</td>\n",
       "      <td>138.98</td>\n",
       "    </tr>\n",
       "    <tr>\n",
       "      <th>4</th>\n",
       "      <td>2023-11-01</td>\n",
       "      <td>183573211</td>\n",
       "      <td>OH</td>\n",
       "      <td>2023-11-06</td>\n",
       "      <td>2023-11-06</td>\n",
       "      <td>2023-11-06</td>\n",
       "      <td>BCUSA22NP</td>\n",
       "      <td>7106983</td>\n",
       "      <td>BETTING</td>\n",
       "      <td>10.0</td>\n",
       "      <td>210.0</td>\n",
       "      <td>-320.22</td>\n",
       "    </tr>\n",
       "  </tbody>\n",
       "</table>\n",
       "</div>"
      ],
      "text/plain": [
       "  activity_month  account_id brand_id   reg_date   ftd_date    qp_date  \\\n",
       "0     2023-11-01   185196607       PA 2023-11-21 2023-11-21        NaT   \n",
       "1     2023-11-01   154497623       AZ 2022-10-28 2022-10-28 2022-10-28   \n",
       "2     2023-11-01   153249011       MI 2022-08-18 2023-12-21        NaT   \n",
       "3     2023-11-01   184718245       OH 2023-11-13 2023-11-13 2023-11-13   \n",
       "4     2023-11-01   183573211       OH 2023-11-06 2023-11-06 2023-11-06   \n",
       "\n",
       "    ben_login_id  tracker_id player_reg_product  total_deposit  total_handle  \\\n",
       "0       BCUSA22L     7102592            BETTING           10.0         210.0   \n",
       "1  actionnetwork     7039239            BETTING            0.0           5.0   \n",
       "2   starsportsmx     7049874             CASINO            0.0           0.0   \n",
       "3  actionnetwork     7106987            BETTING           10.0         210.0   \n",
       "4      BCUSA22NP     7106983            BETTING           10.0         210.0   \n",
       "\n",
       "   total_ngr  \n",
       "0      13.18  \n",
       "1       4.00  \n",
       "2       0.00  \n",
       "3     138.98  \n",
       "4    -320.22  "
      ]
     },
     "execution_count": 20,
     "metadata": {},
     "output_type": "execute_result"
    }
   ],
   "source": [
    "df.head()"
   ]
  },
  {
   "cell_type": "code",
   "execution_count": null,
   "metadata": {},
   "outputs": [],
   "source": [
    "for id in dff['account_id'].unique():\n",
    "    filtered_df = dff.query(\"account_id == @id\")\n",
    "    \n",
    "    if len(filtered_df) > 1:\n",
    "        print(filtered_df)\n",
    "        print('________________________________________________________________________________________')"
   ]
  },
  {
   "cell_type": "code",
   "execution_count": null,
   "metadata": {},
   "outputs": [],
   "source": [
    "df = dff.copy()\n",
    "date_columns = ['activity_month', 'reg_date', 'ftd_date', 'qp_date']\n",
    "for col in date_columns:\n",
    "    df[col] = pd.to_datetime(df[col], errors='coerce')"
   ]
  },
  {
   "cell_type": "code",
   "execution_count": null,
   "metadata": {},
   "outputs": [],
   "source": [
    "df['months_active'] = ((df['activity_month'] - df['ftd_date']).dt.days / 30).fillna(0).astype(int)\n",
    "df_agg = df.groupby(['account_id', 'activity_month']).agg({\n",
    "        'months_active': 'max',\n",
    "        'total_deposit': 'sum',\n",
    "        'total_handle': 'sum',\n",
    "        'total_ngr': 'sum',\n",
    "        'brand_id': 'first',\n",
    "        'ben_login_id': 'first',\n",
    "        'player_reg_product': 'first',\n",
    "        'reg_date': 'first'\n",
    "    }).reset_index()\n",
    "# df = df.drop(columns=['activity_month'])"
   ]
  },
  {
   "cell_type": "code",
   "execution_count": null,
   "metadata": {},
   "outputs": [],
   "source": [
    "n = dff.isnull().sum()\n",
    "\n",
    "n = n[n > 0]"
   ]
  },
  {
   "cell_type": "code",
   "execution_count": null,
   "metadata": {},
   "outputs": [],
   "source": [
    "n.index.to_list()"
   ]
  },
  {
   "cell_type": "code",
   "execution_count": null,
   "metadata": {},
   "outputs": [],
   "source": [
    "print(list(dff.columns))"
   ]
  },
  {
   "cell_type": "code",
   "execution_count": null,
   "metadata": {},
   "outputs": [],
   "source": [
    "from sklearn.preprocessing import OneHotEncoder"
   ]
  },
  {
   "cell_type": "code",
   "execution_count": null,
   "metadata": {},
   "outputs": [],
   "source": [
    "categorical_features = dff.select_dtypes(include='object').columns.to_list()\n",
    "\n",
    "encoder = OneHotEncoder(sparse_output=False, handle_unknown='ignore')\n",
    "encoded = pd.DataFrame(\n",
    "    encoder.fit_transform(dff[categorical_features]),\n",
    "    columns=encoder.get_feature_names_out(categorical_features),\n",
    "    index=dff.index\n",
    ")\n",
    "\n",
    "df = pd.concat([dff, encoded], axis=1)\n",
    "df.drop(categorical_features, axis=1, inplace=True)"
   ]
  },
  {
   "cell_type": "code",
   "execution_count": 21,
   "metadata": {},
   "outputs": [
    {
     "data": {
      "text/html": [
       "<div>\n",
       "<style scoped>\n",
       "    .dataframe tbody tr th:only-of-type {\n",
       "        vertical-align: middle;\n",
       "    }\n",
       "\n",
       "    .dataframe tbody tr th {\n",
       "        vertical-align: top;\n",
       "    }\n",
       "\n",
       "    .dataframe thead th {\n",
       "        text-align: right;\n",
       "    }\n",
       "</style>\n",
       "<table border=\"1\" class=\"dataframe\">\n",
       "  <thead>\n",
       "    <tr style=\"text-align: right;\">\n",
       "      <th></th>\n",
       "      <th>activity_month</th>\n",
       "      <th>account_id</th>\n",
       "      <th>brand_id</th>\n",
       "      <th>reg_date</th>\n",
       "      <th>ftd_date</th>\n",
       "      <th>qp_date</th>\n",
       "      <th>ben_login_id</th>\n",
       "      <th>tracker_id</th>\n",
       "      <th>player_reg_product</th>\n",
       "      <th>total_deposit</th>\n",
       "      <th>total_handle</th>\n",
       "      <th>total_ngr</th>\n",
       "    </tr>\n",
       "  </thead>\n",
       "  <tbody>\n",
       "    <tr>\n",
       "      <th>0</th>\n",
       "      <td>2023-11-01</td>\n",
       "      <td>185196607</td>\n",
       "      <td>PA</td>\n",
       "      <td>2023-11-21</td>\n",
       "      <td>2023-11-21</td>\n",
       "      <td>NaT</td>\n",
       "      <td>BCUSA22L</td>\n",
       "      <td>7102592</td>\n",
       "      <td>BETTING</td>\n",
       "      <td>10.0</td>\n",
       "      <td>210.0</td>\n",
       "      <td>13.18</td>\n",
       "    </tr>\n",
       "    <tr>\n",
       "      <th>1</th>\n",
       "      <td>2023-11-01</td>\n",
       "      <td>154497623</td>\n",
       "      <td>AZ</td>\n",
       "      <td>2022-10-28</td>\n",
       "      <td>2022-10-28</td>\n",
       "      <td>2022-10-28</td>\n",
       "      <td>actionnetwork</td>\n",
       "      <td>7039239</td>\n",
       "      <td>BETTING</td>\n",
       "      <td>0.0</td>\n",
       "      <td>5.0</td>\n",
       "      <td>4.00</td>\n",
       "    </tr>\n",
       "    <tr>\n",
       "      <th>2</th>\n",
       "      <td>2023-11-01</td>\n",
       "      <td>153249011</td>\n",
       "      <td>MI</td>\n",
       "      <td>2022-08-18</td>\n",
       "      <td>2023-12-21</td>\n",
       "      <td>NaT</td>\n",
       "      <td>starsportsmx</td>\n",
       "      <td>7049874</td>\n",
       "      <td>CASINO</td>\n",
       "      <td>0.0</td>\n",
       "      <td>0.0</td>\n",
       "      <td>0.00</td>\n",
       "    </tr>\n",
       "    <tr>\n",
       "      <th>3</th>\n",
       "      <td>2023-11-01</td>\n",
       "      <td>184718245</td>\n",
       "      <td>OH</td>\n",
       "      <td>2023-11-13</td>\n",
       "      <td>2023-11-13</td>\n",
       "      <td>2023-11-13</td>\n",
       "      <td>actionnetwork</td>\n",
       "      <td>7106987</td>\n",
       "      <td>BETTING</td>\n",
       "      <td>10.0</td>\n",
       "      <td>210.0</td>\n",
       "      <td>138.98</td>\n",
       "    </tr>\n",
       "    <tr>\n",
       "      <th>4</th>\n",
       "      <td>2023-11-01</td>\n",
       "      <td>183573211</td>\n",
       "      <td>OH</td>\n",
       "      <td>2023-11-06</td>\n",
       "      <td>2023-11-06</td>\n",
       "      <td>2023-11-06</td>\n",
       "      <td>BCUSA22NP</td>\n",
       "      <td>7106983</td>\n",
       "      <td>BETTING</td>\n",
       "      <td>10.0</td>\n",
       "      <td>210.0</td>\n",
       "      <td>-320.22</td>\n",
       "    </tr>\n",
       "  </tbody>\n",
       "</table>\n",
       "</div>"
      ],
      "text/plain": [
       "  activity_month  account_id brand_id   reg_date   ftd_date    qp_date  \\\n",
       "0     2023-11-01   185196607       PA 2023-11-21 2023-11-21        NaT   \n",
       "1     2023-11-01   154497623       AZ 2022-10-28 2022-10-28 2022-10-28   \n",
       "2     2023-11-01   153249011       MI 2022-08-18 2023-12-21        NaT   \n",
       "3     2023-11-01   184718245       OH 2023-11-13 2023-11-13 2023-11-13   \n",
       "4     2023-11-01   183573211       OH 2023-11-06 2023-11-06 2023-11-06   \n",
       "\n",
       "    ben_login_id  tracker_id player_reg_product  total_deposit  total_handle  \\\n",
       "0       BCUSA22L     7102592            BETTING           10.0         210.0   \n",
       "1  actionnetwork     7039239            BETTING            0.0           5.0   \n",
       "2   starsportsmx     7049874             CASINO            0.0           0.0   \n",
       "3  actionnetwork     7106987            BETTING           10.0         210.0   \n",
       "4      BCUSA22NP     7106983            BETTING           10.0         210.0   \n",
       "\n",
       "   total_ngr  \n",
       "0      13.18  \n",
       "1       4.00  \n",
       "2       0.00  \n",
       "3     138.98  \n",
       "4    -320.22  "
      ]
     },
     "execution_count": 21,
     "metadata": {},
     "output_type": "execute_result"
    }
   ],
   "source": [
    "df.head()"
   ]
  },
  {
   "cell_type": "code",
   "execution_count": 18,
   "metadata": {},
   "outputs": [
    {
     "data": {
      "text/plain": [
       "['brand_id', 'ben_login_id', 'player_reg_product']"
      ]
     },
     "execution_count": 18,
     "metadata": {},
     "output_type": "execute_result"
    }
   ],
   "source": [
    "import numpy as np\n",
    "\n",
    "numeric_features = df.select_dtypes(include=object).columns.to_list()\n",
    "numeric_features"
   ]
  },
  {
   "cell_type": "code",
   "execution_count": 24,
   "metadata": {},
   "outputs": [
    {
     "data": {
      "text/plain": [
       "array(['BETTING', 'CASINO', 'POKER', 'BINGO', 'RACEBOOK'], dtype=object)"
      ]
     },
     "execution_count": 24,
     "metadata": {},
     "output_type": "execute_result"
    }
   ],
   "source": [
    "df['player_reg_product'].unique()"
   ]
  },
  {
   "cell_type": "code",
   "execution_count": 5,
   "metadata": {},
   "outputs": [],
   "source": [
    "df_test = pd.read_csv('artifacts/data_transformation/test.csv')\n",
    "c = df_test.columns.to_list()"
   ]
  },
  {
   "cell_type": "code",
   "execution_count": 21,
   "metadata": {},
   "outputs": [
    {
     "name": "stdout",
     "output_type": "stream",
     "text": [
      "False\n"
     ]
    }
   ],
   "source": [
    "if 'churned' in c:\n",
    "    print(True)\n",
    "else:\n",
    "    print(False)"
   ]
  },
  {
   "cell_type": "code",
   "execution_count": 9,
   "metadata": {},
   "outputs": [
    {
     "data": {
      "text/plain": [
       "activity_month            0\n",
       "account_id                0\n",
       "brand_id                  0\n",
       "reg_date                  0\n",
       "ftd_date               7262\n",
       "qp_date               21237\n",
       "ben_login_id              0\n",
       "tracker_id                0\n",
       "player_reg_product        0\n",
       "total_deposit             0\n",
       "total_handle            162\n",
       "total_ngr                 0\n",
       "dtype: int64"
      ]
     },
     "execution_count": 9,
     "metadata": {},
     "output_type": "execute_result"
    }
   ],
   "source": [
    "df.isnull().sum()"
   ]
  },
  {
   "cell_type": "code",
   "execution_count": null,
   "metadata": {},
   "outputs": [],
   "source": []
  }
 ],
 "metadata": {
  "kernelspec": {
   "display_name": "env",
   "language": "python",
   "name": "python3"
  },
  "language_info": {
   "codemirror_mode": {
    "name": "ipython",
    "version": 3
   },
   "file_extension": ".py",
   "mimetype": "text/x-python",
   "name": "python",
   "nbconvert_exporter": "python",
   "pygments_lexer": "ipython3",
   "version": "3.10.12"
  }
 },
 "nbformat": 4,
 "nbformat_minor": 2
}
