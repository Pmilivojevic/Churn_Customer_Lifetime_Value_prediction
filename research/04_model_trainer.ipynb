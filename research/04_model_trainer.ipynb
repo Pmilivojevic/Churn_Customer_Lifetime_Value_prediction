{
 "cells": [
  {
   "cell_type": "code",
   "execution_count": 1,
   "metadata": {},
   "outputs": [
    {
     "data": {
      "text/plain": [
       "'/mnt/cb03386d-9344-47b1-82f9-868fbb64b4ae/python_projects/Churn_Customer_Lifetime_Value_prediction/research'"
      ]
     },
     "execution_count": 1,
     "metadata": {},
     "output_type": "execute_result"
    }
   ],
   "source": [
    "import os\n",
    "%pwd"
   ]
  },
  {
   "cell_type": "code",
   "execution_count": 2,
   "metadata": {},
   "outputs": [
    {
     "data": {
      "text/plain": [
       "'/mnt/cb03386d-9344-47b1-82f9-868fbb64b4ae/python_projects/Churn_Customer_Lifetime_Value_prediction'"
      ]
     },
     "execution_count": 2,
     "metadata": {},
     "output_type": "execute_result"
    }
   ],
   "source": [
    "os.chdir(\"../\")\n",
    "%pwd"
   ]
  },
  {
   "cell_type": "code",
   "execution_count": 13,
   "metadata": {},
   "outputs": [],
   "source": [
    "from dataclasses import dataclass\n",
    "from pathlib import Path\n",
    "\n",
    "@dataclass(frozen=True)\n",
    "class ModelTrainerConfig:\n",
    "    root_dir: Path\n",
    "    train_file: Path\n",
    "    model_1: Path\n",
    "    model_1_scaler: Path\n",
    "    model_2: Path\n",
    "    model_params: dict"
   ]
  },
  {
   "cell_type": "code",
   "execution_count": 17,
   "metadata": {},
   "outputs": [],
   "source": [
    "from churn_pred.constants import *\n",
    "from churn_pred.utils.main_utils import create_directories, read_yaml\n",
    "\n",
    "class ConfigurationManager:\n",
    "    def __init__(\n",
    "        self,\n",
    "        config_file_path = CONFIG_FILE_PATH,\n",
    "        params_file_path = PARAMS_FILE_PATH,\n",
    "        schema_file_path = SCHEMA_FILE_PATH\n",
    "    ):\n",
    "        self.config = read_yaml(config_file_path)\n",
    "        self.params = read_yaml(params_file_path)\n",
    "        self.schema = read_yaml(schema_file_path)\n",
    "        \n",
    "        create_directories([self.config.artifacts_root])\n",
    "    \n",
    "    def get_model_trainer_config(self) -> ModelTrainerConfig:\n",
    "        config = self.config.model_trainer\n",
    "        params = self.params.model_params\n",
    "        \n",
    "        create_directories([config.root_dir])\n",
    "        \n",
    "        model_trainer_config = ModelTrainerConfig(\n",
    "            root_dir=Path(config.root_dir),\n",
    "            train_file=Path(config.train_file),\n",
    "            model_1=Path(config.model_1),\n",
    "            model_1_scaler=Path(config.model_1_scaler),\n",
    "            model_2=Path(config.model_2),\n",
    "            model_params=params\n",
    "        )\n",
    "        \n",
    "        return model_trainer_config"
   ]
  },
  {
   "cell_type": "code",
   "execution_count": 18,
   "metadata": {},
   "outputs": [],
   "source": [
    "from sklearn.linear_model import LogisticRegression\n",
    "from sklearn.preprocessing import StandardScaler\n",
    "from sklearn.pipeline import Pipeline\n",
    "from xgboost import XGBClassifier\n",
    "import pandas as pd\n",
    "import pickle\n",
    "import numpy as np\n",
    "\n",
    "class ModelTrainer:\n",
    "    def __init__(self, config: ModelTrainerConfig):\n",
    "        self.config = config\n",
    "    \n",
    "    def data_prepatarion(self):\n",
    "        train_data = pd.read_csv(self.config.train_file)\n",
    "        train_data = train_data.replace([np.inf, -np.inf], np.nan)\n",
    "        \n",
    "        lg_y_train = train_data['churn_next_month']\n",
    "        xgb_y_train = train_data['early_churn']\n",
    "        \n",
    "        X_train = train_data.drop(columns=['churn_next_month', 'early_churn'])\n",
    "        \n",
    "        return X_train, lg_y_train, xgb_y_train\n",
    "    \n",
    "    def logistic_regression_trainer(self, X_train, y_train):\n",
    "        params = self.config.model_params.logistic_regression.to_dict()\n",
    "        model = LogisticRegression(**params)\n",
    "        scaler = StandardScaler()\n",
    "        \n",
    "        pipe = Pipeline([\n",
    "            ('scaler', scaler),\n",
    "            ('clf', model)\n",
    "        ])\n",
    "        \n",
    "        pipe.fit(X_train, y_train)\n",
    "        \n",
    "        with open(self.config.model_1,'wb') as f:\n",
    "            pickle.dump(model, f)\n",
    "        \n",
    "        with open(self.config.model_1_scaler, 'wb') as f:\n",
    "            pickle.dump(scaler, f)\n",
    "    \n",
    "    def xgb_classifier_trainer(self, X_train, y_train):\n",
    "        params = self.config.model_params.xgb_classifier.to_dict()\n",
    "        model = XGBClassifier()\n",
    "        model.set_params(**params)\n",
    "        \n",
    "        model.fit(X_train, y_train)\n",
    "        \n",
    "        with open(self.config.model_2,'wb') as f:\n",
    "            pickle.dump(model, f)\n",
    "    \n",
    "    def train(self):\n",
    "        X_train, lg_y_train, xgb_y_train = self.data_prepatarion()\n",
    "        \n",
    "        self.logistic_regression_trainer(X_train, lg_y_train)\n",
    "        \n",
    "        self.xgb_classifier_trainer(X_train, xgb_y_train)"
   ]
  },
  {
   "cell_type": "code",
   "execution_count": 19,
   "metadata": {},
   "outputs": [
    {
     "name": "stdout",
     "output_type": "stream",
     "text": [
      "[2025-06-24 14:45:30,344: INFO: main_utils: yaml file: config/config.yaml loaded successfully]\n",
      "[2025-06-24 14:45:30,350: INFO: main_utils: yaml file: params.yaml loaded successfully]\n",
      "[2025-06-24 14:45:30,354: INFO: main_utils: yaml file: schema.yaml loaded successfully]\n",
      "[2025-06-24 14:45:30,356: INFO: main_utils: created directory at: artifacts]\n",
      "[2025-06-24 14:45:30,358: INFO: main_utils: created directory at: artifacts/model_trainer]\n"
     ]
    },
    {
     "name": "stderr",
     "output_type": "stream",
     "text": [
      "/mnt/cb03386d-9344-47b1-82f9-868fbb64b4ae/python_projects/Churn_Customer_Lifetime_Value_prediction/env/lib/python3.10/site-packages/xgboost/training.py:183: UserWarning: [14:45:31] WARNING: /workspace/src/learner.cc:738: \n",
      "Parameters: { \"silent\" } are not used.\n",
      "\n",
      "  bst.update(dtrain, iteration=i, fobj=obj)\n"
     ]
    }
   ],
   "source": [
    "try:\n",
    "    config = ConfigurationManager()\n",
    "    model_trainer_config = config.get_model_trainer_config()\n",
    "    model_trainer = ModelTrainer(config=model_trainer_config)\n",
    "    model_trainer.train()\n",
    "\n",
    "except Exception as e:\n",
    "    raise e"
   ]
  },
  {
   "cell_type": "code",
   "execution_count": null,
   "metadata": {},
   "outputs": [],
   "source": []
  }
 ],
 "metadata": {
  "kernelspec": {
   "display_name": "env",
   "language": "python",
   "name": "python3"
  },
  "language_info": {
   "codemirror_mode": {
    "name": "ipython",
    "version": 3
   },
   "file_extension": ".py",
   "mimetype": "text/x-python",
   "name": "python",
   "nbconvert_exporter": "python",
   "pygments_lexer": "ipython3",
   "version": "3.10.12"
  }
 },
 "nbformat": 4,
 "nbformat_minor": 2
}
