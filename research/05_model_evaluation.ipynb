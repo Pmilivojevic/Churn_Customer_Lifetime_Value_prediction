{
 "cells": [
  {
   "cell_type": "code",
   "execution_count": 1,
   "metadata": {},
   "outputs": [
    {
     "data": {
      "text/plain": [
       "'/mnt/cb03386d-9344-47b1-82f9-868fbb64b4ae/python_projects/Churn_Customer_Lifetime_Value_prediction/research'"
      ]
     },
     "execution_count": 1,
     "metadata": {},
     "output_type": "execute_result"
    }
   ],
   "source": [
    "import os\n",
    "%pwd"
   ]
  },
  {
   "cell_type": "code",
   "execution_count": 2,
   "metadata": {},
   "outputs": [
    {
     "data": {
      "text/plain": [
       "'/mnt/cb03386d-9344-47b1-82f9-868fbb64b4ae/python_projects/Churn_Customer_Lifetime_Value_prediction'"
      ]
     },
     "execution_count": 2,
     "metadata": {},
     "output_type": "execute_result"
    }
   ],
   "source": [
    "os.chdir(\"../\")\n",
    "%pwd"
   ]
  },
  {
   "cell_type": "code",
   "execution_count": 3,
   "metadata": {},
   "outputs": [],
   "source": [
    "from dataclasses import dataclass\n",
    "from pathlib import Path\n",
    "\n",
    "@dataclass(frozen=True)\n",
    "class ModelEvaluationConfig:\n",
    "    root_dir: Path\n",
    "    test_file: Path\n",
    "    model_1: Path\n",
    "    model_1_scaler: Path\n",
    "    model_2: Path\n",
    "    model_1_stats: Path\n",
    "    model_2_stats: Path"
   ]
  },
  {
   "cell_type": "code",
   "execution_count": 4,
   "metadata": {},
   "outputs": [],
   "source": [
    "from churn_pred.constants import *\n",
    "from churn_pred.utils.main_utils import create_directories, read_yaml\n",
    "\n",
    "class ConfigurationManager:\n",
    "    def __init__(\n",
    "        self,\n",
    "        config_file_path = CONFIG_FILE_PATH,\n",
    "        params_file_path = PARAMS_FILE_PATH,\n",
    "        schema_file_path = SCHEMA_FILE_PATH\n",
    "    ):\n",
    "        self.config = read_yaml(config_file_path)\n",
    "        self.params = read_yaml(params_file_path)\n",
    "        self.schema = read_yaml(schema_file_path)\n",
    "        \n",
    "        create_directories([self.config.artifacts_root])\n",
    "    \n",
    "    def get_model_evaluation_config(self) -> ModelEvaluationConfig:\n",
    "        config = self.config.model_evaluation\n",
    "        \n",
    "        create_directories([config.root_dir, config.model_1_stats, config.model_2_stats])\n",
    "        \n",
    "        model_evaluation_config = ModelEvaluationConfig(\n",
    "            root_dir=Path(config.root_dir),\n",
    "            test_file=Path(config.test_file),\n",
    "            model_1=Path(config.model_1),\n",
    "            model_1_scaler=Path(config.model_1_scaler),\n",
    "            model_2=Path(config.model_2),\n",
    "            model_1_stats=Path(config.model_1_stats),\n",
    "            model_2_stats=Path(config.model_2_stats)\n",
    "        )\n",
    "        \n",
    "        return model_evaluation_config"
   ]
  },
  {
   "cell_type": "code",
   "execution_count": 5,
   "metadata": {},
   "outputs": [],
   "source": [
    "import pandas as pd\n",
    "import numpy as np\n",
    "import pickle\n",
    "from sklearn.metrics import roc_auc_score, confusion_matrix, classification_report\n",
    "from churn_pred.utils.main_utils import save_json, plot_confusion_matrix\n",
    "\n",
    "class ModelEvaluation:\n",
    "    def __init__(self, config: ModelEvaluationConfig):\n",
    "        self.config = config\n",
    "    \n",
    "    def data_prepatarion(self):\n",
    "        test_data = pd.read_csv(self.config.test_file)\n",
    "        test_data = test_data.replace([np.inf, -np.inf], np.nan)\n",
    "        \n",
    "        lg_y_test = test_data['churn_next_month']\n",
    "        xgb_y_test = test_data['early_churn']\n",
    "        \n",
    "        X_test = test_data.drop(columns=['churn_next_month', 'early_churn'])\n",
    "        \n",
    "        return X_test, lg_y_test, xgb_y_test\n",
    "    \n",
    "    def evaluate_lg_model(self, X_test, y_test):\n",
    "        with open(self.config.model_1, 'rb') as file:\n",
    "            model = pickle.load(file)\n",
    "        \n",
    "        with open(self.config.model_1_scaler, 'rb') as file:\n",
    "            scaler = pickle.load(file)\n",
    "        \n",
    "        X_test = scaler.transform(X_test)\n",
    "        \n",
    "        y_pred_proba = model.predict_proba(X_test)[:,1]\n",
    "        y_pred = model.predict(X_test)\n",
    "\n",
    "        # Evaluate\n",
    "        auc = {}\n",
    "        auc['auc'] = roc_auc_score(y_test, y_pred_proba)\n",
    "        save_json(self.config.model_1_stats, auc, 'logistic_regression_auc')\n",
    "        \n",
    "        report = classification_report(y_test, y_pred, output_dict=True)\n",
    "        save_json(self.config.model_1_stats, report, 'logistic_regression_report')\n",
    "        \n",
    "        cm = confusion_matrix(y_test, y_pred)\n",
    "        plot_confusion_matrix(cm, self.config.model_1_stats, 'logistic_regression')\n",
    "        \n",
    "        # print(auc, report)\n",
    "    \n",
    "    def evaluate_xgb_model(self, X_test, y_test):\n",
    "        with open(self.config.model_2, 'rb') as file:\n",
    "            model = pickle.load(file)\n",
    "        \n",
    "        y_pred_proba = model.predict_proba(X_test)[:,1]\n",
    "        y_pred = model.predict(X_test)\n",
    "\n",
    "        # Evaluate\n",
    "        auc = {}\n",
    "        auc['auc'] = roc_auc_score(y_test, y_pred_proba)\n",
    "        save_json(self.config.model_2_stats, auc, 'xgb_classifier_auc')\n",
    "        \n",
    "        report = classification_report(y_test, y_pred, output_dict=True)\n",
    "        save_json(self.config.model_2_stats, report, 'xgb_classifier_report')\n",
    "        \n",
    "        cm = confusion_matrix(y_test, y_pred)\n",
    "        plot_confusion_matrix(cm, self.config.model_2_stats, 'xgb_classifier')\n",
    "        \n",
    "        # print(report)\n",
    "    \n",
    "    def evaluation(self):\n",
    "        X_test, lg_y_test, xgb_y_test = self.data_prepatarion()\n",
    "        \n",
    "        self.evaluate_lg_model(X_test, lg_y_test)\n",
    "        \n",
    "        self.evaluate_xgb_model(X_test, xgb_y_test)"
   ]
  },
  {
   "cell_type": "code",
   "execution_count": 6,
   "metadata": {},
   "outputs": [
    {
     "name": "stdout",
     "output_type": "stream",
     "text": [
      "[2025-06-24 16:09:00,593: INFO: main_utils: yaml file: config/config.yaml loaded successfully]\n",
      "[2025-06-24 16:09:00,601: INFO: main_utils: yaml file: params.yaml loaded successfully]\n",
      "[2025-06-24 16:09:00,605: INFO: main_utils: yaml file: schema.yaml loaded successfully]\n",
      "[2025-06-24 16:09:00,607: INFO: main_utils: created directory at: artifacts]\n",
      "[2025-06-24 16:09:00,610: INFO: main_utils: created directory at: artifacts/model_evaluation]\n",
      "[2025-06-24 16:09:00,613: INFO: main_utils: created directory at: artifacts/model_evaluation/model_1_stats]\n",
      "[2025-06-24 16:09:00,615: INFO: main_utils: created directory at: artifacts/model_evaluation/model_2_stats]\n",
      "[2025-06-24 16:09:00,757: INFO: main_utils: json file saved at: artifacts/model_evaluation/model_1_stats/logistic_regression_auc.json]\n",
      "[2025-06-24 16:09:00,778: INFO: main_utils: json file saved at: artifacts/model_evaluation/model_1_stats/logistic_regression_report.json]\n",
      "[2025-06-24 16:09:01,285: INFO: main_utils: json file saved at: artifacts/model_evaluation/model_2_stats/xgb_classifier_auc.json]\n",
      "[2025-06-24 16:09:01,301: INFO: main_utils: json file saved at: artifacts/model_evaluation/model_2_stats/xgb_classifier_report.json]\n"
     ]
    }
   ],
   "source": [
    "try:\n",
    "    config = ConfigurationManager()\n",
    "    model_evaluation_config = config.get_model_evaluation_config()\n",
    "    model_evaluation = ModelEvaluation(config=model_evaluation_config)\n",
    "    model_evaluation.evaluation()\n",
    "\n",
    "except Exception as e:\n",
    "    raise e"
   ]
  },
  {
   "cell_type": "code",
   "execution_count": null,
   "metadata": {},
   "outputs": [],
   "source": []
  }
 ],
 "metadata": {
  "kernelspec": {
   "display_name": "env",
   "language": "python",
   "name": "python3"
  },
  "language_info": {
   "codemirror_mode": {
    "name": "ipython",
    "version": 3
   },
   "file_extension": ".py",
   "mimetype": "text/x-python",
   "name": "python",
   "nbconvert_exporter": "python",
   "pygments_lexer": "ipython3",
   "version": "3.10.12"
  }
 },
 "nbformat": 4,
 "nbformat_minor": 2
}
