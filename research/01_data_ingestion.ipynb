{
 "cells": [
  {
   "cell_type": "code",
   "execution_count": 1,
   "metadata": {},
   "outputs": [
    {
     "data": {
      "text/plain": [
       "'/mnt/cb03386d-9344-47b1-82f9-868fbb64b4ae/python_projects/Churn_Customer_Lifetime_Value_prediction/research'"
      ]
     },
     "execution_count": 1,
     "metadata": {},
     "output_type": "execute_result"
    }
   ],
   "source": [
    "import os\n",
    "%pwd"
   ]
  },
  {
   "cell_type": "code",
   "execution_count": 2,
   "metadata": {},
   "outputs": [
    {
     "data": {
      "text/plain": [
       "'/mnt/cb03386d-9344-47b1-82f9-868fbb64b4ae/python_projects/Churn_Customer_Lifetime_Value_prediction'"
      ]
     },
     "execution_count": 2,
     "metadata": {},
     "output_type": "execute_result"
    }
   ],
   "source": [
    "os.chdir(\"../\")\n",
    "%pwd"
   ]
  },
  {
   "cell_type": "code",
   "execution_count": 3,
   "metadata": {},
   "outputs": [],
   "source": [
    "from dataclasses import dataclass\n",
    "from pathlib import Path\n",
    "\n",
    "@dataclass(frozen=True)\n",
    "class DataIngestionConfig:\n",
    "    root_dir: Path\n",
    "    source_URL: str\n",
    "    local_data_file: Path"
   ]
  },
  {
   "cell_type": "code",
   "execution_count": 4,
   "metadata": {},
   "outputs": [],
   "source": [
    "from churn_pred.constants import *\n",
    "from churn_pred.utils.main_utils import create_directories, read_yaml\n",
    "\n",
    "class ConfigurationManager:\n",
    "    def __init__(\n",
    "        self,\n",
    "        config_file_path = CONFIG_FILE_PATH,\n",
    "        params_file_path = PARAMS_FILE_PATH,\n",
    "        schema_file_path = SCHEMA_FILE_PATH\n",
    "    ):\n",
    "        self.config = read_yaml(config_file_path)\n",
    "        self.params = read_yaml(params_file_path)\n",
    "        self.schema = read_yaml(schema_file_path)\n",
    "        \n",
    "        create_directories([self.config.artifacts_root])\n",
    "\n",
    "    def get_data_ingestion_config(self) -> DataIngestionConfig:\n",
    "        config = self.config.data_ingestion\n",
    "        \n",
    "        create_directories([config.root_dir])\n",
    "        \n",
    "        data_ingestion_config = DataIngestionConfig(\n",
    "            root_dir=config.root_dir,\n",
    "            source_URL=config.source_URL,\n",
    "            local_data_file=config.local_data_file\n",
    "        )\n",
    "        \n",
    "        return data_ingestion_config"
   ]
  },
  {
   "cell_type": "code",
   "execution_count": 5,
   "metadata": {},
   "outputs": [],
   "source": [
    "import os\n",
    "import urllib.request as request\n",
    "from churn_pred import logger\n",
    "from churn_pred.utils.main_utils import get_size\n",
    "\n",
    "class DataIngestion:\n",
    "    def __init__(self, config: DataIngestionConfig):\n",
    "        self.config = config\n",
    "        \n",
    "    def download_file(self):\n",
    "        if not os.path.exists(self.config.local_data_file):\n",
    "            filename, headers = request.urlretrieve(\n",
    "                url=self.config.source_URL,\n",
    "                filename=self.config.local_data_file\n",
    "            )\n",
    "            logger.info(f\"{filename} downloaded with folowing info: \\n{headers}\")\n",
    "        else:\n",
    "            logger.info(f\"File already exists of size: {get_size(Path(self.config.local_data_file))}\")"
   ]
  },
  {
   "cell_type": "code",
   "execution_count": 6,
   "metadata": {},
   "outputs": [
    {
     "name": "stdout",
     "output_type": "stream",
     "text": [
      "[2025-06-20 16:04:12,406: INFO: main_utils: yaml file: config/config.yaml loaded successfully]\n",
      "[2025-06-20 16:04:12,409: INFO: main_utils: yaml file: params.yaml loaded successfully]\n",
      "[2025-06-20 16:04:12,412: INFO: main_utils: yaml file: schema.yaml loaded successfully]\n",
      "[2025-06-20 16:04:12,415: INFO: main_utils: created directory at: artifacts]\n",
      "[2025-06-20 16:04:12,417: INFO: main_utils: created directory at: artifacts/data_ingestion]\n",
      "[2025-06-20 16:04:12,869: INFO: 1573922181: artifacts/data_ingestion/sample_data__technical_assessment.xlsx downloaded with folowing info: \n",
      "Content-Type: text/html; charset=utf-8\n",
      "Cache-Control: no-cache, no-store, max-age=0, must-revalidate\n",
      "Pragma: no-cache\n",
      "Expires: Mon, 01 Jan 1990 00:00:00 GMT\n",
      "Date: Fri, 20 Jun 2025 14:04:12 GMT\n",
      "P3P: CP=\"This is not a P3P policy! See g.co/p3phelp for more info.\"\n",
      "Strict-Transport-Security: max-age=31536000; includeSubDomains\n",
      "Content-Security-Policy: require-trusted-types-for 'script';report-uri https://csp.withgoogle.com/csp/docs-tt\n",
      "Reporting-Endpoints: default=\"/spreadsheets/d/1taus8Wx2s9xcavripC_TMuDNF2vVSVZ_/web-reports?bl=editors.spreadsheets-frontend_20250610.02_p3&app=8&clss=1&context=eJwV0H1czecbB_Db93vfF6tOnTqdSnVOD6cHpHRqhh5GDycli8b2PdY2QxkilGe_zIQZ8zBsCSkq0gN-zNjIrOYpmxVDqUZTFtUaW5b84vfZH-_7er2u63q9Pvd9W7S5_Pz8bZY3QGHSKwort1TYCSuFGdUKK4C3bBWmt1OYr1ZhP0CRk8K-c1aYu4vC3nZVmL9eYYWQbFDYOR-FPR-iMNVQhdmCn7_CtgcobL1RYdnBCtsDJ0cq7OEohZWNVlgF_G5SWE-cwi4mKOwW-JoVNgLkKQrTQM07CrsHt6dhF9ynK-yVZIUNhFdTFRYNgYsUNgbaFyMfNMsUVrdaYW0QnaWwyTBys8JiIXGLwqbBbfgdNn6psN3gna2w4VC6S2Fn4AVY52AvF3vwTgHuX4g5VB1S2A3IPKKwDWB_TGFeUHUGfQg9q7B4iLiKPHCoUZgP3L2lsC4ovY0M-Loe74bKXxV2HfTNCguA7BaFHQJDq8KC4ThUwkW4BW0P8Gcw45nCMiBCNrNEWMzNbB0MszCz0fBSbWY2tmaW5GNmqcACzEwNqlFmpoPzIWZWA0lhmIMm0swMUD_WzB7CkVgzOweaePRhc4KZ5UITdMIbs8zsPQheamZR4LPMzF6D1BVmthKGrDazELirrWVBQ9qlELhZ9VhqguU-T6SG5ifSfWgK-EtqBVX8X5IWuo3dUh_ExHZLCRC9ulsaD5PWdEtJkJL6jzQPTob1SBWwOrxH2gAxM3ukBHDb1CP5wo0Vz6QG2Fj9TNoOxppn0iiYYNcrKdC0pldqhWv5vdIt0LOXkg-sdn0pbYDTy15K5-GEDZPPgNTMZIt_pfSTWw_0k3sK-smssJ98Il-Sz4B0QZJ3DpLlvTB2kixPgBuTZbkBtn4sy9nwxieybIYVrbK8BiIsuDzYg8tG-KwrhO-E3D9CeRGkdofyDHg6IYxfzA7j16C7LIz3wUrncJ4FPSPCORsZzh9kh_PHMMLrdT4a-raM5mLraD7_5Wi-FDYoY_g2qHSN4NWgjYvg7tA0LoK3QvfOCN4HwZ0RPBTmREbydCgsjeSdZZHIjeTHHKP4afBJjOIBsGlJFN8BcZlRPBFuFkfxVvjjaBR_CvOOR_HFcPNkFL_uEc3vwEqfaL4JBhVH80Do7Irm3TD0z2j-KsTDJNgI26ECLoD8OJpbgiO4gQcMhpWQ9W9vqIn7wvg5Jj4ZFi808Uw4kW7iVbBvu4kfBKtzJm4PSy6ZeFOtibfCi99MnO6b-PkHJn4ZVB4xXAvRw2P4eKhJi-H34HjbWF4JU3vG8g_hW20s930rlg-DbE0cz4M-pzg-YGAcz-8_jhfDRYtx_BokTcgTVW_miatQNQsVimfnidOw4VSe2AZW5_KEK_w8Nl_che1388Wzv_JFv7_zxSm4BAHv7xc37AtEA2Q6FojN0NdQIERjgfi8q0DkQH-3QuEIp-ASPHu9UGRGF4oHcwvFH6BZWigMEAGJUHu6UDTDO1cLxRzIqS0UkS2FYhx4ykUiCHTrioQ3ZBUXiR0Q31gkkuBoxEHxHaytOCi2ghh8SKggqOyQiIRmeAgZzYdEFjSxYtEJx-ViIdyKhQocwoqFDzROKRYt0HiqWHTAmJrDYiLszi4R-x6WiIPQ1FciWmG2ulQsh6MDS8V3sNa_VGyFV-JLhS0YE0rFKPgpuVTchKhVpSIB1n1RKjZDbXGpqAdNZakwALMrE2pIdi8Ti-DJ6jIhfVwmftlYJu6C8WGZiIDnQ8qF7FcuPILLhRG8R5SL4XB6cbm4DOtnHBFbwLjgiMhf9Ugcg7FbHgnj4UciAl6UPxJ05JEYUPNIqCH0SruIgcDqdjESgu60i8qGdlENA0Z3CDW05HWIb7_pEJXgVtkhfGF9VYfYC8lPO8QiSPPsFEvgaU6neAFZuzvFJvDM7RRBsO98pzgItildwgP-THwiKoZb0k9gNcWS7OFatSX9Cm_9aEkpUPWLJd2AtAeWNKXXkt4H41wrqkmzojoQa63o1B4rOgu5e63oAARdsKIQOFZvRV0tVvQPHOEq-hrqbFR0D7INKjoEVidVZA92p1XkDBntKloG40da07vw9xZr-h98tsOa9kLGcWtaesGaPgLnq9YU2mJNibAvyIYOQv1MG_LOsyF_WN5qQ6zdhtQQP1BNSWBwVpMf5I1R01HQT1TTl0Vq2gc1h9V0E7JK1LQBrtSr6RpM7VFTMshDbMkS4sbYUv8oW7KByiRbqgbLE7akgbP-dvQjTDDZkQIfTbOjT2D2CjtaDitr7KgAwlrtaDwU22joGHzvr6EZIzSUCk4jNeQOc0I1tALWT9OQ33QNBcPMmRqSF2hIA561GhoCKTc0pKrTkA6-bbSnSijptKejkPPMng6DrNKSBl7YaonstHRthZZuQfZ6LeVB0GYtRYJdqZac4Viblko6tBS314ESof8BB7IBQ4UD-YLxhgONAvVNB3KCnAYH2g-XGh3oZwjqdqBImDTdkfRzHckH5i1xpEz4YIcjzYIPdznSUvCqdqRXYZq7E82Gr-Kd6Cy4pDrR4_lO1G-BE2391Il2gt8uJwqExnInaoG5x5xoIYy57ESxUOc1kNqgwjSQfoJaaIa2AwPpT7B705kcYfFHzpQJR7Kc6RzM2OhMqfCfSBdaC-djXOgCPP3AhV5A0VwXmrfQhTKhZpsL1YFDhCu5wIBxrqQC7_2uNBxOnnClC5DwjSu9Dde_d6XfIPwHVzKBTaMr2YNPkyv5wS5JR7kw2aijZGh6V0et8Giljnoh7T86WgVfrdKReo2O3EHs0JEWrv9XR7chsVZHU2DMLR3Fwg-tOroCf_XqSH6uo6kGPX0I9X56egjuw_TkDV0Jevoblk_U0yrYPFdPuVCwRE-lMOCwnlQQW6KnN2BYmZ7arupp5x095cCeRj3lw7IuPa2GuF49JYCdwY08YeZ4N0qDu4lu1AVfJLlR81o3egy_kzt1QcMId7oPL2e706Ycd5p8yJ3mwNHL7nQK3r3qTplGD9oMSz72oFXwfr4HzQCfYZ4UAONHetJ0eG8sKuSWeFIRnO3wpB-BggxkDXWzDXQP_NINFAoWKwxkA2tXGuhTUD83kBb8hBcFg1ukFw2DWS-8aBn8Y-FN_S29qdfamyxsvKlhoTfdh2_SvekK-Nd7Uzhs8_KhXVB7wIea4eQUX6qAlrW-9BD66nxJ1PvSHD6I0uFTMYg-hzb1IOqE1w8OohjYP2gwHYUPzCG0AKp_DaE78NvjEHoCl1koLc4JpXWQsTuUsmBHWSjtAe35UPKG-lVhdBcm1oaTndWAxl9uVpL63tXCTsmZm5JnL_IcmoJzfnpGQMaC9JRpyRmzUlIWZfjPTJ-ftiglLXlqUGDQ8MDXjIEBgUFTFwT_H08ztY4&build-label=editors.spreadsheets-frontend_20250610.02_p3&imp-sid=CMuF2LGVgI4DFWWcqwcdmTIlrg&is-cached-offline=false&sid=5330610103d604f3&cellSizeBucket=MISSING_RITZ_SHEET_CELLS_COUNT\"\n",
      "Document-Policy: include-js-call-stacks-in-crash-reports\n",
      "X-Content-Type-Options: nosniff\n",
      "X-XSS-Protection: 1; mode=block\n",
      "Server: GSE\n",
      "Set-Cookie: NID=525=avmkdkPpcFdzLkEFUxDiVPnVv0AnLhxiAgH8v_sNmJSu72DIcuyyNa0rNbCLWGTSQ2DfQ8G3X2zH5EID2d_J_qq41pEhDvwjG8pL90lHfUYZVAsbXOBoySCtwG__qlBATGGu6cy1thzewvBZvgD2-8AIJ2lQU39wYk1QgrXTbtrqTxjd2j6T0unR9O98DHmN_A; expires=Sat, 20-Dec-2025 14:04:12 GMT; path=/; domain=.google.com; HttpOnly\n",
      "Set-Cookie: COMPASS=apps-spreadsheets=CmUACWuJVxhQXwQuYpLU_sd2YIQX6WxvNLCYklJQIJCA9eagLJqiuCXTgP1jl4NZ-vMyUsrrvVocXVnxnrZIzEqUSIMq-uqd6koAgoOi9g_pZ-IIa9TiTeJipJ4mxapTNQ8VNm9WQxDs8NXCBhp2AAlriVdXFRxGxS6VDYbsvQARNsALjW3u90_rQuBGd5WgxrZP1M2e4YDseLhiIsPMFi3ZWQzoF8cQcrQ3p28XG5Yo3eIevtag9MxpiJXs-scHzL0RimRVqKMX2RLmVmrhywa8P7BdVNB2_TuKn4biQsFrMdIzEA==; Domain=.docs.google.com; Expires=Fri, 20-Jun-2025 15:04:12 GMT; Path=/spreadsheets/d/1taus8Wx2s9xcavripC_TMuDNF2vVSVZ_; Secure; HttpOnly; SameSite=none\n",
      "Set-Cookie: GFE_RTT=324; Domain=.docs.google.com; Expires=Fri, 20-Jun-2025 14:09:12 GMT; Path=/; Secure; Priority=LOW; SameSite=strict\n",
      "Alt-Svc: h3=\":443\"; ma=2592000,h3-29=\":443\"; ma=2592000\n",
      "Accept-Ranges: none\n",
      "Vary: Accept-Encoding\n",
      "x-l2-request-path: l2-managed-6\n",
      "Connection: close\n",
      "Transfer-Encoding: chunked\n",
      "\n",
      "]\n"
     ]
    }
   ],
   "source": [
    "try:\n",
    "    config = ConfigurationManager()\n",
    "    data_ingestion_config = config.get_data_ingestion_config()\n",
    "    data_ingestion = DataIngestion(config=data_ingestion_config)\n",
    "    data_ingestion.download_file()\n",
    "\n",
    "except Exception as e:\n",
    "    raise e"
   ]
  },
  {
   "cell_type": "code",
   "execution_count": null,
   "metadata": {},
   "outputs": [],
   "source": []
  }
 ],
 "metadata": {
  "kernelspec": {
   "display_name": "env",
   "language": "python",
   "name": "python3"
  },
  "language_info": {
   "codemirror_mode": {
    "name": "ipython",
    "version": 3
   },
   "file_extension": ".py",
   "mimetype": "text/x-python",
   "name": "python",
   "nbconvert_exporter": "python",
   "pygments_lexer": "ipython3",
   "version": "3.10.12"
  }
 },
 "nbformat": 4,
 "nbformat_minor": 2
}
